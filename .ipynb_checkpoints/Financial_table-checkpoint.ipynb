{
 "cells": [
  {
   "cell_type": "code",
   "execution_count": 1,
   "metadata": {},
   "outputs": [],
   "source": [
    "import pandas as pd\n",
    "import numpy as np"
   ]
  },
  {
   "cell_type": "code",
   "execution_count": 229,
   "metadata": {},
   "outputs": [],
   "source": [
    "def p2f(x):\n",
    "    try:\n",
    "        if '%' in x:\n",
    "            return float(x.strip(' %'))/100\n",
    "        else:\n",
    "            return x\n",
    "    except:\n",
    "        return x"
   ]
  },
  {
   "cell_type": "code",
   "execution_count": 247,
   "metadata": {},
   "outputs": [],
   "source": [
    "# Loading the full financial table and fixing the columns name\n",
    "file_name = 'data.csv'\n",
    "financial_table = pd.read_csv(file_name, encoding='windows 1255')\n",
    "financial_table.columns = financial_table.columns.str.strip().str.lower().str.replace(' ', '_').str.replace('(', '').str.replace('\\n', '_').str.replace('\\r','')\n",
    "financial_table.columns = financial_table.columns.str.replace('שנתי','annual').str.replace('שם_חברה','Company_Name').str.replace(\"שם\", \"Financial_Parameter\")"
   ]
  },
  {
   "cell_type": "code",
   "execution_count": 249,
   "metadata": {},
   "outputs": [],
   "source": [
    "# Changing the name of duplicated columns\n",
    "df = financial_table\n",
    "cols=pd.Series(financial_table.columns)\n",
    "for dup in financial_table.columns.get_duplicates(): cols[df.columns.get_loc(dup)]=[dup+'.'+str(d_idx) if d_idx!=0 else dup for d_idx in range(df.columns.get_loc(dup).sum())]\n",
    "df.columns=cols\n",
    "financial_table.columns = df.columns"
   ]
  },
  {
   "cell_type": "code",
   "execution_count": 250,
   "metadata": {},
   "outputs": [],
   "source": [
    "# merging the different annual columns name to one column\n",
    "annual_2017_merge = financial_table.iloc[:,[28,29,30]]\n",
    "annual_2017_true = annual_2017_merge.apply(non_null, axis=1)\n",
    "financial_table[\"Annual_2017\"] = annual_2017_true"
   ]
  },
  {
   "cell_type": "code",
   "execution_count": 290,
   "metadata": {},
   "outputs": [],
   "source": [
    "# Loading the company list table\n",
    "file_name = \"Companies List.csv\"\n",
    "company_list = pd.DataFrame.from_csv(file_name, header=3)\n",
    "company_list.columns = company_list.columns.str.replace(\" \", \"_\").str.replace(\"מספר_מנפיק\", \"Comp_ref_number\")\n",
    "company_list.columns = company_list.columns.str.replace(\"מספר_תאגיד\",\"Company_Number\")"
   ]
  },
  {
   "cell_type": "code",
   "execution_count": 291,
   "metadata": {},
   "outputs": [],
   "source": [
    "# Splitting the company list industy column\n",
    "industry = company_list[\"ענף_בבורסה\"].str.split(\"-\",expand=True)\n",
    "industry.columns = [\"Top_Industry\", \"Industry\", \"Sub_Industry\"]\n",
    "company_list = company_list.join(industry)"
   ]
  },
  {
   "cell_type": "code",
   "execution_count": 284,
   "metadata": {},
   "outputs": [
    {
     "data": {
      "text/html": [
       "<div>\n",
       "<style>\n",
       "    .dataframe thead tr:only-child th {\n",
       "        text-align: right;\n",
       "    }\n",
       "\n",
       "    .dataframe thead th {\n",
       "        text-align: left;\n",
       "    }\n",
       "\n",
       "    .dataframe tbody tr th {\n",
       "        vertical-align: top;\n",
       "    }\n",
       "</style>\n",
       "<table border=\"1\" class=\"dataframe\">\n",
       "  <thead>\n",
       "    <tr style=\"text-align: right;\">\n",
       "      <th></th>\n",
       "      <th>Company_Number</th>\n",
       "      <th>Top_Industry</th>\n",
       "      <th>Industry</th>\n",
       "      <th>Sub_Industry</th>\n",
       "    </tr>\n",
       "    <tr>\n",
       "      <th>Comp_ref_number</th>\n",
       "      <th></th>\n",
       "      <th></th>\n",
       "      <th></th>\n",
       "      <th></th>\n",
       "    </tr>\n",
       "  </thead>\n",
       "  <tbody>\n",
       "    <tr>\n",
       "      <th>373</th>\n",
       "      <td>520038274</td>\n",
       "      <td>ריאלי</td>\n",
       "      <td>נדל\"ן ובינוי</td>\n",
       "      <td>נדל\"ן ובינוי</td>\n",
       "    </tr>\n",
       "    <tr>\n",
       "      <th>1390</th>\n",
       "      <td>510119068</td>\n",
       "      <td>ריאלי</td>\n",
       "      <td>תעשיה</td>\n",
       "      <td>עץ, נייר ודפוס</td>\n",
       "    </tr>\n",
       "    <tr>\n",
       "      <th>1461</th>\n",
       "      <td>512838723</td>\n",
       "      <td>הייטק</td>\n",
       "      <td>ביומד</td>\n",
       "      <td>ביוטכנולוגיה</td>\n",
       "    </tr>\n",
       "    <tr>\n",
       "      <th>106</th>\n",
       "      <td>520041286</td>\n",
       "      <td>ריאלי</td>\n",
       "      <td>נדל\"ן ובינוי</td>\n",
       "      <td>נדל\"ן ובינוי</td>\n",
       "    </tr>\n",
       "    <tr>\n",
       "      <th>444</th>\n",
       "      <td>520039264</td>\n",
       "      <td>ריאלי</td>\n",
       "      <td>נדל\"ן ובינוי</td>\n",
       "      <td>נדל\"ן ובינוי</td>\n",
       "    </tr>\n",
       "  </tbody>\n",
       "</table>\n",
       "</div>"
      ],
      "text/plain": [
       "                 Company_Number Top_Industry        Industry     Sub_Industry\n",
       "Comp_ref_number                                                              \n",
       "373                   520038274       ריאלי    נדל\"ן ובינוי      נדל\"ן ובינוי\n",
       "1390                  510119068       ריאלי           תעשיה    עץ, נייר ודפוס\n",
       "1461                  512838723       הייטק           ביומד      ביוטכנולוגיה\n",
       "106                   520041286       ריאלי    נדל\"ן ובינוי      נדל\"ן ובינוי\n",
       "444                   520039264       ריאלי    נדל\"ן ובינוי      נדל\"ן ובינוי"
      ]
     },
     "execution_count": 284,
     "metadata": {},
     "output_type": "execute_result"
    }
   ],
   "source": [
    "\n",
    "final_company_list = company_list.iloc[:,[7,8,9,10,11]]\n",
    "final_company_list.set_index(\"Comp_ref_number\", inplace=True)"
   ]
  },
  {
   "cell_type": "code",
   "execution_count": 287,
   "metadata": {},
   "outputs": [],
   "source": [
    "# Join the company number and industry to the company financial file\n",
    "final_table = final_table.join(final_company_list,on=\"comp_serial_name\")"
   ]
  },
  {
   "cell_type": "code",
   "execution_count": 288,
   "metadata": {},
   "outputs": [],
   "source": [
    "# changing the type of merged annual column to match float while eliminating \",\" and \"%\" \n",
    "#     and exporting to excel\n",
    "financial_table.Annual_2017.replace(\",\",\"\", regex=True, inplace=True)\n",
    "financial_table.Annual_2017 = financial_table.Annual_2017.apply(p2f)\n",
    "financial_table.Annual_2017 = final_table.Annual_2017.apply(pd.to_numeric, errors=\"coerce\")\n",
    "final_table = financial_table.iloc[:,[1,23,22,32]]\n",
    "final_table.to_excel(\"full_table_20190209.xlsx\")"
   ]
  },
  {
   "cell_type": "code",
   "execution_count": null,
   "metadata": {},
   "outputs": [],
   "source": []
  }
 ],
 "metadata": {
  "kernelspec": {
   "display_name": "Python 3",
   "language": "python",
   "name": "python3"
  },
  "language_info": {
   "codemirror_mode": {
    "name": "ipython",
    "version": 3
   },
   "file_extension": ".py",
   "mimetype": "text/x-python",
   "name": "python",
   "nbconvert_exporter": "python",
   "pygments_lexer": "ipython3",
   "version": "3.6.3"
  }
 },
 "nbformat": 4,
 "nbformat_minor": 2
}
